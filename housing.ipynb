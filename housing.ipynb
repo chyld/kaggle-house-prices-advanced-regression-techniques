{
 "cells": [
  {
   "cell_type": "markdown",
   "metadata": {},
   "source": [
    "# LIBRARY IMPORTS"
   ]
  },
  {
   "cell_type": "code",
   "execution_count": 58,
   "metadata": {},
   "outputs": [
    {
     "name": "stdout",
     "output_type": "stream",
     "text": [
      "The autoreload extension is already loaded. To reload it, use:\n",
      "  %reload_ext autoreload\n"
     ]
    }
   ],
   "source": [
    "%run importing.ipynb"
   ]
  },
  {
   "cell_type": "markdown",
   "metadata": {},
   "source": [
    "# LOAD DATA"
   ]
  },
  {
   "cell_type": "code",
   "execution_count": 59,
   "metadata": {},
   "outputs": [],
   "source": [
    "df = pd.read_csv('train.csv')"
   ]
  },
  {
   "cell_type": "markdown",
   "metadata": {},
   "source": [
    "# EDA"
   ]
  },
  {
   "cell_type": "code",
   "execution_count": 61,
   "metadata": {},
   "outputs": [],
   "source": [
    "X, y, ohe = eda(df)"
   ]
  },
  {
   "cell_type": "markdown",
   "metadata": {},
   "source": [
    "# PREPROCESSING"
   ]
  },
  {
   "cell_type": "code",
   "execution_count": 62,
   "metadata": {},
   "outputs": [],
   "source": [
    "pX, py = process(X, y)"
   ]
  },
  {
   "cell_type": "markdown",
   "metadata": {},
   "source": [
    "# SPLIT DATA"
   ]
  },
  {
   "cell_type": "code",
   "execution_count": 63,
   "metadata": {},
   "outputs": [
    {
     "data": {
      "text/plain": [
       "((1095, 305), (365, 305))"
      ]
     },
     "execution_count": 63,
     "metadata": {},
     "output_type": "execute_result"
    }
   ],
   "source": [
    "split_size = 0.25\n",
    "X_train, X_val, y_train, y_val = train_test_split(pX, py, test_size=split_size, random_state=42)\n",
    "X_train.shape, X_val.shape"
   ]
  },
  {
   "cell_type": "markdown",
   "metadata": {},
   "source": [
    "# MODELING"
   ]
  },
  {
   "cell_type": "code",
   "execution_count": 64,
   "metadata": {},
   "outputs": [],
   "source": [
    "lin_params = {'fit_intercept': [0,1], 'normalize': [0,1]}\n",
    "lin_grid = GridSearchCV(LinearRegression(), lin_params, cv=5, n_jobs=-1).fit(X_train, y_train)\n",
    "lin = LinearRegression(**lin_grid.best_params_).fit(X_train, y_train)"
   ]
  },
  {
   "cell_type": "code",
   "execution_count": 66,
   "metadata": {},
   "outputs": [],
   "source": [
    "knn_params = {'n_neighbors': range(1,10), \n",
    "              'weights': ['uniform', 'distance'], \n",
    "              'algorithm' : ['auto', 'ball_tree', 'kd_tree', 'brute']}\n",
    "knn_grid = GridSearchCV(KNeighborsRegressor(), knn_params, cv=5, n_jobs=-1).fit(X_train, y_train)\n",
    "knn = KNeighborsRegressor(**knn_grid.best_params_).fit(X_train, y_train)"
   ]
  },
  {
   "cell_type": "code",
   "execution_count": 69,
   "metadata": {},
   "outputs": [],
   "source": [
    "rfr_params = {'n_estimators': range(100, 501, 100), \n",
    "              'max_depth': range(1,10)}\n",
    "rfr_grid = GridSearchCV(RandomForestRegressor(), rfr_params, cv=5, n_jobs=-1).fit(X_train, y_train)\n",
    "rfr = RandomForestRegressor(**rfr_grid.best_params_).fit(X_train, y_train)"
   ]
  },
  {
   "cell_type": "code",
   "execution_count": 71,
   "metadata": {},
   "outputs": [],
   "source": [
    "abr_params = {'n_estimators': range(100, 501, 100), \n",
    "              'learning_rate': np.logspace(-4, 0, 5)}\n",
    "abr_grid = GridSearchCV(AdaBoostRegressor(), abr_params, cv=5, n_jobs=-1).fit(X_train, y_train)\n",
    "abr = AdaBoostRegressor(**abr_grid.best_params_).fit(X_train, y_train)"
   ]
  },
  {
   "cell_type": "code",
   "execution_count": 73,
   "metadata": {},
   "outputs": [],
   "source": [
    "gbr_params = {'n_estimators': range(100, 501, 100), \n",
    "              'learning_rate': np.logspace(-4, 0, 5),\n",
    "              'max_depth': range(1, 10)}\n",
    "gbr_grid = GridSearchCV(GradientBoostingRegressor(), gbr_params, cv=5, n_jobs=-1).fit(X_train, y_train)\n",
    "gbr = GradientBoostingRegressor(**gbr_grid.best_params_).fit(X_train, y_train)"
   ]
  },
  {
   "cell_type": "code",
   "execution_count": 75,
   "metadata": {},
   "outputs": [],
   "source": [
    "cbr = CatBoostRegressor(verbose=False, iterations=2000).fit(X_train, y_train)"
   ]
  },
  {
   "cell_type": "code",
   "execution_count": 76,
   "metadata": {},
   "outputs": [
    {
     "name": "stdout",
     "output_type": "stream",
     "text": [
      "lin: 21851865856.929813\n",
      "knn: 0.20387896456549873\n",
      "rfr: 0.1426807457980089\n",
      "abr: 0.17560001903029365\n",
      "gbr: 0.12884514426460536\n",
      "cbr: 0.1928385460071715\n"
     ]
    }
   ],
   "source": [
    "print('lin:', mean_squared_error(y_val, lin.predict(X_val)) ** 0.5)\n",
    "print('knn:', mean_squared_error(y_val, knn.predict(X_val)) ** 0.5)\n",
    "print('rfr:', mean_squared_error(y_val, rfr.predict(X_val)) ** 0.5)\n",
    "print('abr:', mean_squared_error(y_val, abr.predict(X_val)) ** 0.5)\n",
    "print('gbr:', mean_squared_error(y_val, gbr.predict(X_val)) ** 0.5)\n",
    "print('cbr:', mean_squared_error(y_val, cbr.predict(X_val)) ** 0.5)"
   ]
  },
  {
   "cell_type": "code",
   "execution_count": 44,
   "metadata": {},
   "outputs": [],
   "source": [
    "# model = Sequential()\n",
    "# model.add(Dense(units=2096, activation='relu', input_shape=(265,)))\n",
    "# model.add(Dropout(0.25))\n",
    "# model.add(Dense(units=1024, activation='relu'))\n",
    "# model.add(Dropout(0.25))\n",
    "# model.add(Dense(units=1, activation='linear'))\n",
    "# opt = optimizers.SGD()\n",
    "# model.compile(loss='mean_squared_error', optimizer=opt, metrics=[rmse])\n",
    "# model.summary()"
   ]
  },
  {
   "cell_type": "code",
   "execution_count": 45,
   "metadata": {},
   "outputs": [],
   "source": [
    "# history = model.fit(X_train, y_train, epochs=201, batch_size=25, verbose=0, validation_split=0.3,\n",
    "#                     shuffle=True, callbacks=[Logger(50)])"
   ]
  },
  {
   "cell_type": "code",
   "execution_count": null,
   "metadata": {},
   "outputs": [],
   "source": []
  },
  {
   "cell_type": "code",
   "execution_count": null,
   "metadata": {},
   "outputs": [],
   "source": []
  },
  {
   "cell_type": "code",
   "execution_count": 10,
   "metadata": {},
   "outputs": [],
   "source": [
    "model = GradientBoostingRegressor(n_estimators=400, max_depth=3).fit(pX, py)"
   ]
  },
  {
   "cell_type": "code",
   "execution_count": 11,
   "metadata": {},
   "outputs": [],
   "source": [
    "df_kaggle = pd.read_csv('test.csv')\n",
    "X_kaggle, _ = eda(df_kaggle, False)\n",
    "X_kaggle, _ = process(X_kaggle)"
   ]
  },
  {
   "cell_type": "code",
   "execution_count": 12,
   "metadata": {},
   "outputs": [],
   "source": [
    "dict_kaggle = {'Id' : df_kaggle['Id'], 'SalePrice': np.exp(model.predict(X_kaggle))}\n",
    "pd.DataFrame(dict_kaggle).to_csv('predictions.csv', index=False)"
   ]
  },
  {
   "cell_type": "code",
   "execution_count": null,
   "metadata": {},
   "outputs": [],
   "source": []
  },
  {
   "cell_type": "code",
   "execution_count": null,
   "metadata": {},
   "outputs": [],
   "source": []
  }
 ],
 "metadata": {
  "kernelspec": {
   "display_name": "Python 3",
   "language": "python",
   "name": "python3"
  },
  "language_info": {
   "codemirror_mode": {
    "name": "ipython",
    "version": 3
   },
   "file_extension": ".py",
   "mimetype": "text/x-python",
   "name": "python",
   "nbconvert_exporter": "python",
   "pygments_lexer": "ipython3",
   "version": "3.7.3"
  }
 },
 "nbformat": 4,
 "nbformat_minor": 2
}
