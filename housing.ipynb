{
 "cells": [
  {
   "cell_type": "markdown",
   "metadata": {},
   "source": [
    "# LIBRARY IMPORTS"
   ]
  },
  {
   "cell_type": "code",
   "execution_count": 67,
   "metadata": {},
   "outputs": [
    {
     "name": "stdout",
     "output_type": "stream",
     "text": [
      "The autoreload extension is already loaded. To reload it, use:\n",
      "  %reload_ext autoreload\n"
     ]
    }
   ],
   "source": [
    "%run importing.ipynb"
   ]
  },
  {
   "cell_type": "markdown",
   "metadata": {},
   "source": [
    "# LOAD DATA"
   ]
  },
  {
   "cell_type": "code",
   "execution_count": 68,
   "metadata": {},
   "outputs": [],
   "source": [
    "df = pd.read_csv('train.csv')"
   ]
  },
  {
   "cell_type": "markdown",
   "metadata": {},
   "source": [
    "# EDA"
   ]
  },
  {
   "cell_type": "code",
   "execution_count": 69,
   "metadata": {},
   "outputs": [],
   "source": [
    "X, y = eda(df)"
   ]
  },
  {
   "cell_type": "markdown",
   "metadata": {},
   "source": [
    "# PREPROCESSING"
   ]
  },
  {
   "cell_type": "code",
   "execution_count": 70,
   "metadata": {},
   "outputs": [],
   "source": [
    "pX, py = process(X, y)"
   ]
  },
  {
   "cell_type": "markdown",
   "metadata": {},
   "source": [
    "# SPLIT DATA"
   ]
  },
  {
   "cell_type": "code",
   "execution_count": 71,
   "metadata": {},
   "outputs": [
    {
     "data": {
      "text/plain": [
       "((1095, 265), (365, 265))"
      ]
     },
     "execution_count": 71,
     "metadata": {},
     "output_type": "execute_result"
    }
   ],
   "source": [
    "split_size = 0.25\n",
    "X_train, X_val, y_train, y_val = train_test_split(pX, py, test_size=split_size, random_state=42)\n",
    "X_train.shape, X_val.shape"
   ]
  },
  {
   "cell_type": "markdown",
   "metadata": {},
   "source": [
    "# MODELING"
   ]
  },
  {
   "cell_type": "code",
   "execution_count": 38,
   "metadata": {},
   "outputs": [],
   "source": [
    "lin = LinearRegression().fit(X_train, y_train)\n",
    "knn = KNeighborsRegressor().fit(X_train, y_train)\n",
    "rfr = RandomForestRegressor().fit(X_train, y_train)\n",
    "abr = AdaBoostRegressor().fit(X_train, y_train)\n",
    "gbr = GradientBoostingRegressor(n_estimators=400, max_depth=3).fit(X_train, y_train)\n",
    "cbr = CatBoostRegressor(verbose=False, iterations=2000).fit(X_train, y_train)"
   ]
  },
  {
   "cell_type": "code",
   "execution_count": 39,
   "metadata": {},
   "outputs": [
    {
     "name": "stdout",
     "output_type": "stream",
     "text": [
      "lin: 562858366395.3821\n",
      "knn: 0.205709026563613\n",
      "rfr: 0.14738060502461142\n",
      "abr: 0.17692363752623116\n",
      "gbr: 0.1310708612533411\n",
      "cbr: 0.19864638307380428\n"
     ]
    }
   ],
   "source": [
    "print('lin:', mean_squared_error(y_val, lin.predict(X_val)) ** 0.5)\n",
    "print('knn:', mean_squared_error(y_val, knn.predict(X_val)) ** 0.5)\n",
    "print('rfr:', mean_squared_error(y_val, rfr.predict(X_val)) ** 0.5)\n",
    "print('abr:', mean_squared_error(y_val, abr.predict(X_val)) ** 0.5)\n",
    "print('gbr:', mean_squared_error(y_val, gbr.predict(X_val)) ** 0.5)\n",
    "print('cbr:', mean_squared_error(y_val, cbr.predict(X_val)) ** 0.5)"
   ]
  },
  {
   "cell_type": "code",
   "execution_count": 83,
   "metadata": {},
   "outputs": [
    {
     "name": "stdout",
     "output_type": "stream",
     "text": [
      "Model: \"sequential_11\"\n",
      "_________________________________________________________________\n",
      "Layer (type)                 Output Shape              Param #   \n",
      "=================================================================\n",
      "dense_33 (Dense)             (None, 2096)              557536    \n",
      "_________________________________________________________________\n",
      "dropout_22 (Dropout)         (None, 2096)              0         \n",
      "_________________________________________________________________\n",
      "dense_34 (Dense)             (None, 1024)              2147328   \n",
      "_________________________________________________________________\n",
      "dropout_23 (Dropout)         (None, 1024)              0         \n",
      "_________________________________________________________________\n",
      "dense_35 (Dense)             (None, 1)                 1025      \n",
      "=================================================================\n",
      "Total params: 2,705,889\n",
      "Trainable params: 2,705,889\n",
      "Non-trainable params: 0\n",
      "_________________________________________________________________\n"
     ]
    }
   ],
   "source": [
    "model = Sequential()\n",
    "model.add(Dense(units=2096, activation='relu', input_shape=(265,)))\n",
    "model.add(Dropout(0.25))\n",
    "model.add(Dense(units=1024, activation='relu'))\n",
    "model.add(Dropout(0.25))\n",
    "model.add(Dense(units=1, activation='linear'))\n",
    "opt = optimizers.SGD()\n",
    "model.compile(loss='mean_squared_error', optimizer=opt, metrics=[rmse])\n",
    "model.summary()"
   ]
  },
  {
   "cell_type": "code",
   "execution_count": 84,
   "metadata": {},
   "outputs": [
    {
     "name": "stdout",
     "output_type": "stream",
     "text": [
      "epoch: 0 {'loss': 27.833122265868024, 'rmse': 4.1639366, 'val_loss': 8.045459983559002, 'val_rmse': 2.4842017}\n",
      "epoch: 50 {'loss': 0.463943091875268, 'rmse': 0.5382911, 'val_loss': 1.5028344505101352, 'val_rmse': 0.64541644}\n",
      "epoch: 100 {'loss': 0.3624238377685024, 'rmse': 0.47482777, 'val_loss': 1.4668998012607946, 'val_rmse': 0.70271987}\n",
      "epoch: 150 {'loss': 0.32447827566541515, 'rmse': 0.4504358, 'val_loss': 1.4024377434449355, 'val_rmse': 0.6609797}\n",
      "epoch: 200 {'loss': 0.30408452313111284, 'rmse': 0.44305304, 'val_loss': 1.3936251133770927, 'val_rmse': 0.6839174}\n"
     ]
    }
   ],
   "source": [
    "history = model.fit(X_train, y_train, epochs=201, batch_size=25, verbose=0, validation_split=0.3,\n",
    "                    shuffle=True, callbacks=[Logger(50)])"
   ]
  },
  {
   "cell_type": "code",
   "execution_count": null,
   "metadata": {},
   "outputs": [],
   "source": []
  },
  {
   "cell_type": "code",
   "execution_count": null,
   "metadata": {},
   "outputs": [],
   "source": []
  },
  {
   "cell_type": "code",
   "execution_count": 35,
   "metadata": {},
   "outputs": [],
   "source": [
    "model = GradientBoostingRegressor(n_estimators=400, max_depth=3).fit(pX, py)"
   ]
  },
  {
   "cell_type": "code",
   "execution_count": 36,
   "metadata": {},
   "outputs": [],
   "source": [
    "df_kaggle = pd.read_csv('test.csv')\n",
    "X_kaggle, _ = eda(df_kaggle, False)\n",
    "X_kaggle, _ = process(X_kaggle)"
   ]
  },
  {
   "cell_type": "code",
   "execution_count": 37,
   "metadata": {},
   "outputs": [],
   "source": [
    "dict_kaggle = {'Id' : df_kaggle['Id'], 'SalePrice': np.exp(model.predict(X_kaggle))}\n",
    "pd.DataFrame(dict_kaggle).to_csv('predictions.csv', index=False)"
   ]
  },
  {
   "cell_type": "code",
   "execution_count": null,
   "metadata": {},
   "outputs": [],
   "source": []
  }
 ],
 "metadata": {
  "kernelspec": {
   "display_name": "Python 3",
   "language": "python",
   "name": "python3"
  },
  "language_info": {
   "codemirror_mode": {
    "name": "ipython",
    "version": 3
   },
   "file_extension": ".py",
   "mimetype": "text/x-python",
   "name": "python",
   "nbconvert_exporter": "python",
   "pygments_lexer": "ipython3",
   "version": "3.7.3"
  }
 },
 "nbformat": 4,
 "nbformat_minor": 2
}
